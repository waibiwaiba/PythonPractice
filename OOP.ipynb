{
 "cells": [
  {
   "cell_type": "markdown",
   "metadata": {},
   "source": [
    "## 面向对象"
   ]
  },
  {
   "cell_type": "markdown",
   "metadata": {},
   "source": [
    "### super()"
   ]
  },
  {
   "cell_type": "code",
   "execution_count": 4,
   "metadata": {},
   "outputs": [
    {
     "name": "stdout",
     "output_type": "stream",
     "text": [
      "Tom 10\n"
     ]
    }
   ],
   "source": [
    "class Parent:\n",
    "    def __init__(self, name):\n",
    "        self.name = name\n",
    "\n",
    "class Child(Parent):\n",
    "    def __init__(self, name, age):\n",
    "        super().__init__(name)\n",
    "        self.age = age\n",
    "\n",
    "c = Child('Tom', 10)\n",
    "print(c.name, c.age)  # 输出：Tom 10"
   ]
  },
  {
   "cell_type": "markdown",
   "metadata": {},
   "source": [
    "### 类属性和实例属性"
   ]
  },
  {
   "cell_type": "code",
   "execution_count": 2,
   "metadata": {},
   "outputs": [
    {
     "name": "stdout",
     "output_type": "stream",
     "text": [
      "2\n",
      "1\n",
      "1\n",
      "Hello, my name is Tom.\n",
      "Hello, my name is Jerry.\n"
     ]
    }
   ],
   "source": [
    "\n",
    "class Person:\n",
    "    count = 0  # 类属性\n",
    "\n",
    "    def __init__(self, name):\n",
    "        self.name = name  # 实例属性\n",
    "        self.count = 0\n",
    "        self.count += 1\n",
    "        Person.count += 1\n",
    "\n",
    "    def say_hello(self):\n",
    "        print(f'Hello, my name is {self.name}.')\n",
    "\n",
    "person1 = Person('Tom')\n",
    "person2 = Person('Jerry')\n",
    "print(Person.count)  # 输出：2\n",
    "print(person1.count) # 输出：1\n",
    "print(person2.count) # 输出：1\n",
    "person1.say_hello()  # 输出：Hello, my name is Tom.\n",
    "person2.say_hello()  # 输出：Hello, my name is Jerry."
   ]
  },
  {
   "cell_type": "markdown",
   "metadata": {},
   "source": [
    "### 继承和多态"
   ]
  },
  {
   "cell_type": "code",
   "execution_count": 3,
   "metadata": {},
   "outputs": [
    {
     "name": "stdout",
     "output_type": "stream",
     "text": [
      "Woof!\n",
      "Meow!\n"
     ]
    }
   ],
   "source": [
    "class Animal:\n",
    "    def say_hello(self):\n",
    "        pass\n",
    "\n",
    "class Dog(Animal):\n",
    "    def say_hello(self):\n",
    "        print('Woof!')\n",
    "\n",
    "class Cat(Animal):\n",
    "    def say_hello(self):\n",
    "        print('Meow!')\n",
    "\n",
    "def greet(animal):\n",
    "    animal.say_hello()\n",
    "\n",
    "dog = Dog()\n",
    "cat = Cat()\n",
    "\n",
    "greet(dog)\n",
    "greet(cat)"
   ]
  },
  {
   "cell_type": "markdown",
   "metadata": {},
   "source": [
    "### 继承"
   ]
  },
  {
   "cell_type": "code",
   "execution_count": 5,
   "metadata": {},
   "outputs": [
    {
     "name": "stdout",
     "output_type": "stream",
     "text": [
      "Name: Alice, Age: 30\n",
      "Name: Bob, Age: 25\n",
      "Employee ID: 1234\n"
     ]
    }
   ],
   "source": [
    "class Person:\n",
    "    def __init__(self, name, age):\n",
    "        self.name = name\n",
    "        self.age = age\n",
    "    \n",
    "    def info(self):\n",
    "        print(f\"Name: {self.name}, Age: {self.age}\")\n",
    "        \n",
    "\n",
    "class Employee(Person):\n",
    "    def __init__(self, name, age, employee_id):\n",
    "        super().__init__(name, age)\n",
    "        self.employee_id = employee_id\n",
    "    \n",
    "    def info(self):\n",
    "        super().info()\n",
    "        print(f\"Employee ID: {self.employee_id}\")\n",
    "        \n",
    "\n",
    "person = Person(\"Alice\", 30)\n",
    "person.info()\n",
    "\n",
    "employee = Employee(\"Bob\", 25, \"1234\")\n",
    "employee.info()"
   ]
  },
  {
   "attachments": {},
   "cell_type": "markdown",
   "metadata": {},
   "source": [
    "### 类方法"
   ]
  },
  {
   "cell_type": "code",
   "execution_count": 6,
   "metadata": {},
   "outputs": [
    {
     "name": "stdout",
     "output_type": "stream",
     "text": [
      "2\n",
      "Hello, world!\n"
     ]
    }
   ],
   "source": [
    "class MyClass:\n",
    "    count = 0\n",
    "    \n",
    "    def __init__(self):\n",
    "        MyClass.count += 1\n",
    "    \n",
    "    @classmethod\n",
    "    def get_count(cls):\n",
    "        return cls.count\n",
    "    \n",
    "    @staticmethod\n",
    "    def hello():\n",
    "        print(\"Hello, world!\")\n",
    "\n",
    "obj1 = MyClass()\n",
    "obj2 = MyClass()\n",
    "\n",
    "print(MyClass.get_count())   # 输出 2\n",
    "MyClass.hello()             # 输出 \"Hello, world!\""
   ]
  },
  {
   "attachments": {},
   "cell_type": "markdown",
   "metadata": {},
   "source": [
    "### 属性"
   ]
  },
  {
   "cell_type": "code",
   "execution_count": 7,
   "metadata": {},
   "outputs": [
    {
     "name": "stdout",
     "output_type": "stream",
     "text": [
      "3\n",
      "4\n",
      "12\n",
      "6\n",
      "5\n",
      "30\n"
     ]
    }
   ],
   "source": [
    "class Rectangle:\n",
    "    def __init__(self, width, height):\n",
    "        self._width = width\n",
    "        self._height = height\n",
    "        \n",
    "    @property\n",
    "    def width(self):\n",
    "        return self._width\n",
    "    \n",
    "    @width.setter\n",
    "    def width(self, value):\n",
    "        if value < 0:\n",
    "            raise ValueError(\"Width cannot be negative.\")\n",
    "        self._width = value\n",
    "        \n",
    "    @property\n",
    "    def height(self):\n",
    "        return self._height\n",
    "    \n",
    "    @height.setter\n",
    "    def height(self, value):\n",
    "        if value < 0:\n",
    "            raise ValueError(\"Height cannot be negative.\")\n",
    "        self._height = value\n",
    "        \n",
    "    def area(self):\n",
    "        return self._width * self._height\n",
    "\n",
    "\n",
    "r = Rectangle(3, 4)\n",
    "print(r.width)      # 输出 3\n",
    "print(r.height)     # 输出 4\n",
    "print(r.area())     # 输出 12\n",
    "\n",
    "r.width = 5\n",
    "r.height = 6\n",
    "print(r.height)\n",
    "print(r.width)\n",
    "print(r.area())"
   ]
  },
  {
   "cell_type": "code",
   "execution_count": 12,
   "metadata": {},
   "outputs": [
    {
     "name": "stdout",
     "output_type": "stream",
     "text": [
      "3\n",
      "4\n",
      "12\n",
      "5\n",
      "6\n",
      "30\n"
     ]
    }
   ],
   "source": [
    "class Rectangle:\n",
    "    def __init__(self, width, height):\n",
    "        self.width = width\n",
    "        self.height = height\n",
    "\n",
    "    def area(self):\n",
    "        return self.width * self.height\n",
    "\n",
    "r = Rectangle(3, 4)\n",
    "print(r.width)      # 输出 3\n",
    "print(r.height)     # 输出 4\n",
    "print(r.area())     # 输出 12\n",
    "r.width = 5\n",
    "r.height = 6\n",
    "print(r.width)      # 输出 5\n",
    "print(r.height)     # 输出 6\n",
    "print(r.area())     # 输出 30"
   ]
  },
  {
   "attachments": {},
   "cell_type": "markdown",
   "metadata": {},
   "source": [
    "这种方式是Python的默认访问方式，也称为**直接访问（direct access）**。这种方式的问题是，我们**无法对属性进行有效的验证和保护，例如，我们无法检查width和height是否是正数、是否符合业务需求等**。另外，如果我们**需要在访问或修改属性时执行某些额外的操作（例如，记录日志、更新缓存、触发事件等），也无法实现**。为了解决这个问题，我们可以使用@property装饰器来创建属性。\n",
    "在这个版本的Rectangle类中，我们使用@property装饰器创建了width和height属性，同时使用@setter装饰器创建了width和height属性的setter方法。通过这种方式，我们可以对width和height进行有效的验证和保护，例如，我们检查了width和height是否是正数。另外，我们还可以在setter方法中执行额外的操作，例如，更新缓存、记录日志、触发事件等。在这个版本的Rectangle类中，我们还使用了下划线（_）来标识width和height属性是“私有”的，不应该被直接访问。这种方式称为**间接访问（indirect access）。**"
   ]
  },
  {
   "attachments": {},
   "cell_type": "markdown",
   "metadata": {},
   "source": [
    "在某些简单的情况下，确实没有必要使用@property和@setter等装饰器，可以直接使用类的属性来访问或修改它们。但在一些更为复杂的场景下，使用装饰器可以帮助我们更好地组织代码，增强代码的可读性、可维护性和可扩展性。\n",
    "\n",
    "例如，在一个类中可能有一些属性，它们的取值和赋值需要进行一些额外的逻辑处理，例如需要验证数据的合法性、计算属性值等等。如果不使用装饰器，这些逻辑处理代码可能会散落在多个地方，增加代码的复杂度和维护难度。而使用装饰器，可以将这些逻辑处理代码封装在一个统一的方法中，使代码更加清晰、简洁。\n",
    "\n",
    "此外，使用装饰器还可以实现一些高级的功能，例如动态属性、缓存、延迟计算等等，这些功能在一些复杂的应用场景中非常有用。因此，虽然在某些简单情况下可以不使用装饰器，但是在大多数情况下，使用装饰器可以使代码更加健壮、灵活和易于扩展。"
   ]
  },
  {
   "attachments": {},
   "cell_type": "markdown",
   "metadata": {},
   "source": [
    "### 抽象基类与接口"
   ]
  },
  {
   "cell_type": "code",
   "execution_count": 13,
   "metadata": {},
   "outputs": [],
   "source": [
    "import abc\n",
    "\n",
    "class MyABC(metaclass=abc.ABCMeta):\n",
    "    @abc.abstractmethod\n",
    "    def my_abstract_method(self):\n",
    "        pass\n",
    "\n",
    "class MyConcreteClass(MyABC):\n",
    "    def my_abstract_method(self):\n",
    "        print(\"Implementation of my_abstract_method() in MyConcreteClass\")\n"
   ]
  },
  {
   "cell_type": "code",
   "execution_count": 15,
   "metadata": {},
   "outputs": [
    {
     "name": "stdout",
     "output_type": "stream",
     "text": [
      "汪汪汪\n",
      "喵喵喵\n"
     ]
    }
   ],
   "source": [
    "from abc import ABCMeta, abstractmethod\n",
    "\n",
    "class Animal(metaclass=ABCMeta):\n",
    "    @abstractmethod\n",
    "    def sound(self):\n",
    "        pass\n",
    "\n",
    "class Dog(Animal):\n",
    "    def sound(self):\n",
    "        print('汪汪汪')\n",
    "\n",
    "class Cat(Animal):\n",
    "    def sound(self):\n",
    "        print('喵喵喵')\n",
    "\n",
    "animals = [Dog(), Cat()]\n",
    "\n",
    "for animal in animals:\n",
    "    animal.sound()\n"
   ]
  },
  {
   "attachments": {},
   "cell_type": "markdown",
   "metadata": {},
   "source": [
    "使用抽象基类可以提高代码的可读性和可维护性，因为它强制要求子类实现特定的方法和属性，防止了因为子类缺少必要的方法或属性而导致的错误。同时，抽象基类也可以作为接口来使用，定义一组方法的规范，让其他开发人员更容易地理解代码的设计意图。"
   ]
  },
  {
   "cell_type": "code",
   "execution_count": null,
   "metadata": {},
   "outputs": [],
   "source": [
    "from abc import ABCMeta, abstractmethod\n",
    "\n",
    "class IShape(metaclass=ABCMeta):\n",
    "    @abstractmethod\n",
    "    def get_area(self):\n",
    "        pass\n",
    "\n",
    "    @abstractmethod\n",
    "    def get_perimeter(self):\n",
    "        pass\n",
    "\n",
    "class Rectangle(IShape):\n",
    "    def __init__(self, width, height):\n",
    "        self.width = width\n",
    "        self.height = height\n",
    "\n",
    "    def get_area(self):\n",
    "        return self.width * self.height\n",
    "\n",
    "    def get_perimeter(self):\n",
    "        return 2 * (self.width + self.height)\n",
    "\n",
    "\n",
    "class Circle(IShape):\n",
    "    def __init__(self, radius):\n",
    "        self.radius = radius\n",
    "\n",
    "    def area(self):\n",
    "        return 3.14 * self.radius ** 2\n",
    "\n",
    "    def perimeter(self):\n",
    "        return 2 * 3.14 * self.radius\n"
   ]
  },
  {
   "attachments": {},
   "cell_type": "markdown",
   "metadata": {},
   "source": [
    "### 类装饰器"
   ]
  },
  {
   "cell_type": "code",
   "execution_count": 14,
   "metadata": {},
   "outputs": [
    {
     "name": "stdout",
     "output_type": "stream",
     "text": [
      "This is a method in MyClass\n",
      "This is a decorated method\n"
     ]
    }
   ],
   "source": [
    "def my_decorator(cls):\n",
    "    class MyDecoratedClass(cls):\n",
    "        def my_decorated_method(self):\n",
    "            print(\"This is a decorated method\")\n",
    "\n",
    "    return MyDecoratedClass\n",
    "\n",
    "@my_decorator\n",
    "class MyClass:\n",
    "    def my_method(self):\n",
    "        print(\"This is a method in MyClass\")\n",
    "\n",
    "obj = MyClass()\n",
    "obj.my_method()\n",
    "obj.my_decorated_method()\n"
   ]
  },
  {
   "attachments": {},
   "cell_type": "markdown",
   "metadata": {},
   "source": [
    "这段代码是一个类装饰器的示例，它会在原有的类上添加一个新的方法。\n",
    "\n",
    "在这段代码中，定义了一个名为my_decorator的函数，这个函数接受一个类cls作为参数，然后返回一个新的类MyDecoratedClass。在MyDecoratedClass中定义了一个新的方法my_decorated_method，它会打印出\"This is a decorated method\"。\n",
    "\n",
    "接下来，在定义MyClass类的上方使用了@my_decorator装饰器，这会将MyClass传递给my_decorator函数，并返回一个新的类MyDecoratedClass。因此，MyClass实际上是被MyDecoratedClass类所替代的。这意味着，MyClass现在拥有了一个名为my_decorated_method的新方法。\n",
    "\n",
    "在最后几行代码中，创建了一个MyClass的对象obj，然后调用了my_method和my_decorated_method方法。my_method方法是MyClass原有的方法，它会打印出\"This is a method in MyClass\"；而my_decorated_method方法则是通过my_decorator函数添加的新方法，它会打印出\"This is a decorated method\"。这表明，使用类装饰器可以在不改变原有类定义的情况下，向类中添加新的方法和属性。"
   ]
  },
  {
   "attachments": {},
   "cell_type": "markdown",
   "metadata": {},
   "source": [
    "### Minxin类"
   ]
  },
  {
   "attachments": {},
   "cell_type": "markdown",
   "metadata": {},
   "source": [
    "Mixin是一种用于扩展类功能的一种设计模式，它通过将一个类的方法和属性拆分成多个较小的类，然后通过多重继承来组合这些类，从而实现对原始类的扩展。\n",
    "\n",
    "Mixin类通常不会独立使用，而是用于给其他类添加某些功能，使这些类拥有某些行为或属性，而无需复制和粘贴相同的代码。Mixin类通常不会被实例化，它们只是为其他类提供行为和属性的集合。\n",
    "\n",
    "Mixin类的命名通常以Mixin结尾，例如LoggerMixin，SerializerMixin等。Mixin类通常只实现单个功能，并且没有与其他Mixin类相关的依赖关系。\n",
    "\n",
    "下面是一个示例，其中使用Mixin类来为一个类添加序列化和日志记录功能："
   ]
  },
  {
   "cell_type": "code",
   "execution_count": 16,
   "metadata": {},
   "outputs": [],
   "source": [
    "class SerializerMixin:\n",
    "    def serialize(self):\n",
    "        # 序列化代码\n",
    "        pass\n",
    "\n",
    "class LoggerMixin:\n",
    "    def log(self, message):\n",
    "        # 记录日志代码\n",
    "        pass\n",
    "\n",
    "class MyModel(SerializerMixin, LoggerMixin):\n",
    "    def __init__(self, name):\n",
    "        self.name = name\n",
    "\n",
    "    def save(self):\n",
    "        self.log(\"Saving model {}\".format(self.name))\n",
    "        serialized_data = self.serialize()\n",
    "        # 保存序列化数据代码\n"
   ]
  },
  {
   "attachments": {},
   "cell_type": "markdown",
   "metadata": {},
   "source": [
    "在这个示例中，MyModel类通过多重继承SerializerMixin和LoggerMixin类，从而获得了序列化和日志记录的功能。同时，MyModel类还定义了自己的save()方法，其中调用了LoggerMixin类的log()方法和SerializerMixin类的serialize()方法。这样，MyModel类就可以通过Mixin类来实现复用代码，而不是将这些功能复制到每个类中。"
   ]
  },
  {
   "attachments": {},
   "cell_type": "markdown",
   "metadata": {},
   "source": [
    "这是Python的多重继承机制所提供的一种方式，它允许开发者将多个功能不同但相关的Mixin类组合在一起，以实现对一个类的多方面功能扩展。这种方式避免了单一继承的局限性，同时也避免了代码的重复。\n",
    "\n",
    "`这时候相当于新生成的类是多重继承的类的混合体，所以可以直接访问多重继承的父类？`\n",
    "\n",
    "是的，当一个类使用多重继承时，它继承了多个父类的属性和方法。当一个子类继承了多个父类时，它就拥有了这些父类的所有属性和方法。在Mixin类中，我们通常会定义一些辅助方法或属性，这些方法或属性可以被其他类继承和使用，从而实现代码的复用。\n",
    "\n",
    "是的，你理解的很对。当一个类多重继承了多个Mixin类后，它的实例对象就同时具有了所有Mixin类和其父类的属性和方法。这是由于Python中的方法解析顺序（MRO）的机制决定的，它决定了在多重继承的情况下，Python会按照一定的顺序搜索方法和属性。在上述的例子中，MyModel类的MRO为：MyModel -> SerializerMixin -> LoggerMixin -> object，因此MyModel实例对象可以直接访问它所继承的所有Mixin类和其父类的属性和方法。"
   ]
  },
  {
   "attachments": {},
   "cell_type": "markdown",
   "metadata": {},
   "source": [
    "### 魔术方法\n",
    "Magic Method\n",
    "在 Python 中，有很多特殊方法，它们的名字以双下划线开始和结束，比如 __init__()，__str__()，__eq__() 等等，这些方法也被称为魔术方法（Magic Method）。这些魔术方法可以被用来重载运算符、访问对象的属性、定义对象的行为等。\n",
    "\n",
    "例如，如果我们想给一个自定义的类定义相等运算符 ==，我们可以重载 __eq__() 方法：\n",
    "\n",
    "```python\n",
    "\n",
    "class MyClass:\n",
    "    def __init__(self, x):\n",
    "        self.x = x\n",
    "\n",
    "    def __eq__(self, other):\n",
    "        return self.x == other.x\n",
    "\n",
    "a = MyClass(1)\n",
    "b = MyClass(2)\n",
    "c = MyClass(1)\n",
    "\n",
    "print(a == b)  # False\n",
    "print(a == c)  # True\n",
    "```\n",
    "\n",
    "在这个例子中，我们重载了 __eq__() 方法，当使用 == 运算符比较两个 MyClass 实例时，实际上是调用了 a.__eq__(b) 或者 a.__eq__(c) 方法来进行比较，返回结果。\n",
    "\n",
    "魔术方法有很多，每个方法都有特定的作用，可以根据需要进行选择和重载。"
   ]
  }
 ],
 "metadata": {
  "kernelspec": {
   "display_name": "base",
   "language": "python",
   "name": "python3"
  },
  "language_info": {
   "codemirror_mode": {
    "name": "ipython",
    "version": 3
   },
   "file_extension": ".py",
   "mimetype": "text/x-python",
   "name": "python",
   "nbconvert_exporter": "python",
   "pygments_lexer": "ipython3",
   "version": "3.9.12"
  },
  "orig_nbformat": 4
 },
 "nbformat": 4,
 "nbformat_minor": 2
}
