{
 "cells": [
  {
   "cell_type": "markdown",
   "metadata": {},
   "source": [
    "## 面向对象"
   ]
  },
  {
   "cell_type": "markdown",
   "metadata": {},
   "source": [
    "### super()"
   ]
  },
  {
   "cell_type": "code",
   "execution_count": 4,
   "metadata": {},
   "outputs": [
    {
     "name": "stdout",
     "output_type": "stream",
     "text": [
      "Tom 10\n"
     ]
    }
   ],
   "source": [
    "class Parent:\n",
    "    def __init__(self, name):\n",
    "        self.name = name\n",
    "\n",
    "class Child(Parent):\n",
    "    def __init__(self, name, age):\n",
    "        super().__init__(name)\n",
    "        self.age = age\n",
    "\n",
    "c = Child('Tom', 10)\n",
    "print(c.name, c.age)  # 输出：Tom 10"
   ]
  },
  {
   "cell_type": "markdown",
   "metadata": {},
   "source": [
    "### 类属性和实例属性"
   ]
  },
  {
   "cell_type": "code",
   "execution_count": 2,
   "metadata": {},
   "outputs": [
    {
     "name": "stdout",
     "output_type": "stream",
     "text": [
      "2\n",
      "1\n",
      "1\n",
      "Hello, my name is Tom.\n",
      "Hello, my name is Jerry.\n"
     ]
    }
   ],
   "source": [
    "\n",
    "class Person:\n",
    "    count = 0  # 类属性\n",
    "\n",
    "    def __init__(self, name):\n",
    "        self.name = name  # 实例属性\n",
    "        self.count = 0\n",
    "        self.count += 1\n",
    "        Person.count += 1\n",
    "\n",
    "    def say_hello(self):\n",
    "        print(f'Hello, my name is {self.name}.')\n",
    "\n",
    "person1 = Person('Tom')\n",
    "person2 = Person('Jerry')\n",
    "print(Person.count)  # 输出：2\n",
    "print(person1.count) # 输出：1\n",
    "print(person2.count) # 输出：1\n",
    "person1.say_hello()  # 输出：Hello, my name is Tom.\n",
    "person2.say_hello()  # 输出：Hello, my name is Jerry."
   ]
  },
  {
   "cell_type": "markdown",
   "metadata": {},
   "source": [
    "### 继承和多态"
   ]
  },
  {
   "cell_type": "code",
   "execution_count": 3,
   "metadata": {},
   "outputs": [
    {
     "name": "stdout",
     "output_type": "stream",
     "text": [
      "Woof!\n",
      "Meow!\n"
     ]
    }
   ],
   "source": [
    "class Animal:\n",
    "    def say_hello(self):\n",
    "        pass\n",
    "\n",
    "class Dog(Animal):\n",
    "    def say_hello(self):\n",
    "        print('Woof!')\n",
    "\n",
    "class Cat(Animal):\n",
    "    def say_hello(self):\n",
    "        print('Meow!')\n",
    "\n",
    "def greet(animal):\n",
    "    animal.say_hello()\n",
    "\n",
    "dog = Dog()\n",
    "cat = Cat()\n",
    "\n",
    "greet(dog)\n",
    "greet(cat)"
   ]
  },
  {
   "cell_type": "markdown",
   "metadata": {},
   "source": [
    "### 继承"
   ]
  },
  {
   "cell_type": "code",
   "execution_count": 5,
   "metadata": {},
   "outputs": [
    {
     "name": "stdout",
     "output_type": "stream",
     "text": [
      "Name: Alice, Age: 30\n",
      "Name: Bob, Age: 25\n",
      "Employee ID: 1234\n"
     ]
    }
   ],
   "source": [
    "class Person:\n",
    "    def __init__(self, name, age):\n",
    "        self.name = name\n",
    "        self.age = age\n",
    "    \n",
    "    def info(self):\n",
    "        print(f\"Name: {self.name}, Age: {self.age}\")\n",
    "        \n",
    "\n",
    "class Employee(Person):\n",
    "    def __init__(self, name, age, employee_id):\n",
    "        super().__init__(name, age)\n",
    "        self.employee_id = employee_id\n",
    "    \n",
    "    def info(self):\n",
    "        super().info()\n",
    "        print(f\"Employee ID: {self.employee_id}\")\n",
    "        \n",
    "\n",
    "person = Person(\"Alice\", 30)\n",
    "person.info()\n",
    "\n",
    "employee = Employee(\"Bob\", 25, \"1234\")\n",
    "employee.info()"
   ]
  }
 ],
 "metadata": {
  "kernelspec": {
   "display_name": "base",
   "language": "python",
   "name": "python3"
  },
  "language_info": {
   "codemirror_mode": {
    "name": "ipython",
    "version": 3
   },
   "file_extension": ".py",
   "mimetype": "text/x-python",
   "name": "python",
   "nbconvert_exporter": "python",
   "pygments_lexer": "ipython3",
   "version": "3.9.12"
  },
  "orig_nbformat": 4
 },
 "nbformat": 4,
 "nbformat_minor": 2
}
