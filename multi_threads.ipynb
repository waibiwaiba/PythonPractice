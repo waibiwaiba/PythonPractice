{
 "cells": [
  {
   "attachments": {},
   "cell_type": "markdown",
   "metadata": {},
   "source": [
    "## 简单的命令行执行，获取命令行输出"
   ]
  },
  {
   "cell_type": "code",
   "execution_count": 1,
   "metadata": {},
   "outputs": [
    {
     "name": "stdout",
     "output_type": "stream",
     "text": [
      "returncode: 0\n",
      " 驱动器 D 中的卷是 Data\n",
      " 卷的序列号是 D62E-479E\n",
      "\n",
      " d:\\VSCODE\\PythonPractice 的目录\n",
      "\n",
      "[.]                      multi_threads.ipynb      \n",
      "[..]                     README.md                \n",
      "fun.py                   subprocess_practice.py   \n",
      "               4 个文件         35,032 字节\n",
      "               2 个目录 66,418,671,616 可用字节\n",
      "\n",
      "returncode: 0\n",
      "returncode: 0\n",
      "returncode: 0\n",
      "stdout:  驱动器 D 中的卷是 Data\n",
      " 卷的序列号是 D62E-479E\n",
      "\n",
      " d:\\VSCODE\\PythonPractice 的目录\n",
      "\n",
      "[.]                      multi_threads.ipynb      \n",
      "[..]                     README.md                \n",
      "fun.py                   subprocess_practice.py   \n",
      "               4 个文件         35,032 字节\n",
      "               2 个目录 66,418,671,616 可用字节\n",
      "\n",
      "stderr: \n"
     ]
    }
   ],
   "source": [
    "import subprocess\n",
    "\n",
    "completed = subprocess.run(['dir', '/d'], shell=True, encoding='gbk')\n",
    "print('returncode:', completed.returncode)\n",
    "\n",
    "# safer version\n",
    "completed = subprocess.run(['cmd', '/c', 'dir /d'], capture_output=True, text=True, encoding='gbk')\n",
    "print(completed.stdout)\n",
    "print('returncode:', completed.returncode)\n",
    "\n",
    "completed = subprocess.run(['cmd', '/c', 'echo %USERPROFILE%'], shell=True)\n",
    "print('returncode:', completed.returncode)\n",
    "\n",
    "\n",
    "completed = subprocess.run(['cmd', '/c', 'dir', '/d'], capture_output=True, text=True, encoding='gbk')\n",
    "print('returncode:', completed.returncode)\n",
    "print('stdout:', completed.stdout)\n",
    "print('stderr:', completed.stderr)\n",
    "\n"
   ]
  },
  {
   "cell_type": "code",
   "execution_count": 2,
   "metadata": {},
   "outputs": [
    {
     "name": "stdout",
     "output_type": "stream",
     "text": [
      "returncode: 0\n",
      " 驱动器 D 中的卷是 Data\n",
      " 卷的序列号是 D62E-479E\n",
      "\n",
      " d:\\VSCODE\\PythonPractice 的目录\n",
      "\n",
      "2023-03-08  20:10    <DIR>          .\n",
      "2023-03-08  20:10    <DIR>          ..\n",
      "2023-03-08  19:51             3,826 fun.py\n",
      "2023-03-08  20:10            21,404 multi_threads.ipynb\n",
      "2023-03-07  08:34                81 README.md\n",
      "2023-03-08  20:10             9,721 subprocess_practice.py\n",
      "               4 个文件         35,032 字节\n",
      "               2 个目录 66,418,671,616 可用字节\n",
      "\n"
     ]
    }
   ],
   "source": [
    "# 简单的命令行执行\n",
    "completed = subprocess.run(['dir', '/d'], shell=True)\n",
    "print('returncode:', completed.returncode)\n",
    "\n",
    "# 获取命令行输出\n",
    "output = subprocess.check_output(['dir'], shell=True, text=True, encoding='gbk')\n",
    "print(output)\n"
   ]
  },
  {
   "attachments": {},
   "cell_type": "markdown",
   "metadata": {},
   "source": [
    "### subprocess.run(stdout=, stderr=)"
   ]
  },
  {
   "cell_type": "code",
   "execution_count": 3,
   "metadata": {},
   "outputs": [
    {
     "name": "stdout",
     "output_type": "stream",
     "text": [
      "returncode: 0\n",
      "stdout:  驱动器 D 中的卷是 Data\n",
      " 卷的序列号是 D62E-479E\n",
      "\n",
      " d:\\VSCODE\\PythonPractice 的目录\n",
      "\n",
      "[.]                      multi_threads.ipynb      \n",
      "[..]                     README.md                \n",
      "fun.py                   subprocess_practice.py   \n",
      "               4 个文件         35,032 字节\n",
      "               2 个目录 66,418,671,616 可用字节\n",
      "\n",
      "stderr: \n"
     ]
    }
   ],
   "source": [
    "import subprocess\n",
    "\n",
    "try:\n",
    "    completed = subprocess.run(\n",
    "        'dir /d', shell=True, check=True, stdout=subprocess.PIPE, stderr=subprocess.PIPE, encoding='gbk')\n",
    "except subprocess.CalledProcessError as err:\n",
    "    print('ERROR:', err)\n",
    "    print('stderr:', err.stderr)\n",
    "\n",
    "else:\n",
    "    print('returncode:', completed.returncode)\n",
    "    print('stdout:', completed.stdout)\n",
    "    print('stderr:', completed.stderr)"
   ]
  },
  {
   "attachments": {},
   "cell_type": "markdown",
   "metadata": {},
   "source": [
    "### subprocess.run(timeout=)"
   ]
  },
  {
   "cell_type": "code",
   "execution_count": 4,
   "metadata": {},
   "outputs": [
    {
     "name": "stdout",
     "output_type": "stream",
     "text": [
      "Ping timed out after 5 seconds.\n"
     ]
    }
   ],
   "source": [
    "import subprocess\n",
    "\n",
    "try:\n",
    "    completed = subprocess.run(['ping', 'www.baidu.com', '-t'], timeout=5)\n",
    "except subprocess.TimeoutExpired:\n",
    "    print('Ping timed out after 5 seconds.')"
   ]
  },
  {
   "attachments": {},
   "cell_type": "markdown",
   "metadata": {},
   "source": [
    "### threading.Thread"
   ]
  },
  {
   "cell_type": "code",
   "execution_count": 5,
   "metadata": {},
   "outputs": [
    {
     "name": "stdout",
     "output_type": "stream",
     "text": [
      "Withdraw 10 succeededWithdraw 10 succeeded\n",
      "Withdraw 10 succeeded\n",
      "\n",
      "Withdraw 10 succeeded\n",
      "Withdraw 10 succeeded\n",
      "Withdraw 10 succeeded\n",
      "Withdraw 10 succeeded\n",
      "Withdraw 10 succeeded\n",
      "Withdraw 10 succeeded\n",
      "Withdraw 10 succeeded\n",
      "Final balance: 0\n"
     ]
    }
   ],
   "source": [
    "import threading\n",
    "\n",
    "class BankAccount:\n",
    "    \"\"\"银行账户类\"\"\"\n",
    "\n",
    "    def __init__(self, balance=0):\n",
    "        \"\"\"初始化账户余额\"\"\"\n",
    "        self.balance = balance\n",
    "\n",
    "    def withdraw(self, amount):\n",
    "        \"\"\"取款操作\"\"\"\n",
    "        if self.balance >= amount:\n",
    "            self.balance -= amount\n",
    "            print(f\"Withdraw {amount} succeeded\")\n",
    "        else:\n",
    "            print(f\"Withdraw {amount} failed\")\n",
    "\n",
    "# 创建一个银行账户实例\n",
    "account = BankAccount(balance=100)\n",
    "\n",
    "# 创建多个线程进行取款操作\n",
    "threads = []\n",
    "for i in range(10):\n",
    "    t = threading.Thread(target=account.withdraw, args=(10,))\n",
    "    threads.append(t)\n",
    "\n",
    "# 启动多个线程\n",
    "for t in threads:\n",
    "    t.start()\n",
    "\n",
    "# 等待所有线程执行完毕\n",
    "for t in threads:\n",
    "    t.join()\n",
    "\n",
    "# 输出最终余额\n",
    "print(f\"Final balance: {account.balance}\")"
   ]
  },
  {
   "attachments": {},
   "cell_type": "markdown",
   "metadata": {},
   "source": [
    "### threading.lock()锁机制：数据竞争"
   ]
  },
  {
   "cell_type": "code",
   "execution_count": 6,
   "metadata": {},
   "outputs": [
    {
     "name": "stdout",
     "output_type": "stream",
     "text": [
      "balance: 0\n",
      "timecost: 0.8091800212860107\n"
     ]
    }
   ],
   "source": [
    "import threading\n",
    "import time\n",
    "balance = 0\n",
    "lock = threading.Lock()\n",
    "\n",
    "def deposit(n):\n",
    "    global balance\n",
    "    for i in range(1000000):\n",
    "        lock.acquire()      # 获取锁\n",
    "        balance += n\n",
    "        lock.release()      # 释放锁\n",
    "\n",
    "def withdraw(n):\n",
    "    global balance\n",
    "    for i in range(1000000):\n",
    "        lock.acquire()      # 获取锁\n",
    "        balance -= n\n",
    "        lock.release()      # 释放锁\n",
    "\n",
    "if __name__ == '__main__':\n",
    "    start_time = time.time()\n",
    "    t1 = threading.Thread(target=deposit, args=(1,))\n",
    "    t2 = threading.Thread(target=withdraw, args=(1,))\n",
    "    t1.start()\n",
    "    t2.start()\n",
    "    t1.join()\n",
    "    t2.join()\n",
    "    print('balance:', balance)\n",
    "    print('timecost:',time.time()-start_time)"
   ]
  },
  {
   "attachments": {},
   "cell_type": "markdown",
   "metadata": {},
   "source": [
    "### with self.lock:用类改写，with自动释放锁"
   ]
  },
  {
   "cell_type": "code",
   "execution_count": 7,
   "metadata": {},
   "outputs": [
    {
     "name": "stdout",
     "output_type": "stream",
     "text": [
      "Deposited 1, balance is now 1\n",
      "Withdrew 1, balance is now 0\n",
      "Deposited 1, balance is now 1\n",
      "Withdrew 1, balance is now 0\n",
      "Deposited 1, balance is now 1\n",
      "Withdrew 1, balance is now 0\n",
      "Deposited 1, balance is now 1\n",
      "Withdrew 1, balance is now 0\n",
      "Final balance: 0\n"
     ]
    }
   ],
   "source": [
    "import threading\n",
    "\n",
    "class BankAccount:\n",
    "    def __init__(self, balance):\n",
    "        self.balance = balance\n",
    "        self.lock = threading.Lock()\n",
    "\n",
    "    def deposit(self, amount):\n",
    "        with self.lock:\n",
    "            self.balance += amount\n",
    "            print(f\"Deposited {amount}, balance is now {self.balance}\")\n",
    "\n",
    "    def withdraw(self, amount):\n",
    "        with self.lock:\n",
    "            if self.balance >= amount:\n",
    "                self.balance -= amount\n",
    "                print(f\"Withdrew {amount}, balance is now {self.balance}\")\n",
    "            else:\n",
    "                print(f\"Insufficient balance, cannot withdraw {amount}\")\n",
    "\n",
    "def run_threads(account):\n",
    "    for _ in range(2):\n",
    "        account.deposit(1)\n",
    "        account.withdraw(1)\n",
    "\n",
    "if __name__ == '__main__':\n",
    "    account = BankAccount(0)\n",
    "    threads = [threading.Thread(target=run_threads, args=(account,)) for _ in range(2)]\n",
    "\n",
    "    for t in threads:\n",
    "        t.start()\n",
    "\n",
    "    for t in threads:\n",
    "        t.join()\n",
    "\n",
    "    print(f\"Final balance: {account.balance}\")"
   ]
  },
  {
   "attachments": {},
   "cell_type": "markdown",
   "metadata": {},
   "source": [
    "### 队列-生产者消费者模型"
   ]
  },
  {
   "cell_type": "code",
   "execution_count": 8,
   "metadata": {},
   "outputs": [
    {
     "name": "stdout",
     "output_type": "stream",
     "text": [
      "produced 5 productsconsumed product:\n",
      " product-1\n",
      "consumed product: product-2\n",
      "produced 5 products\n",
      "consumed product: product-3\n"
     ]
    }
   ],
   "source": [
    "import threading\n",
    "import time\n",
    "import queue\n",
    "\n",
    "# 定义队列对象\n",
    "q = queue.Queue()\n",
    "\n",
    "# 定义生产者线程\n",
    "class ProducerThread(threading.Thread):\n",
    "    def __init__(self, exit_event):\n",
    "        super().__init__()\n",
    "        self.exit_event = exit_event\n",
    "    def run(self):\n",
    "        global q\n",
    "        count = 0\n",
    "        while not self.exit_event.is_set():\n",
    "            if q.qsize() < 5:\n",
    "                for i in range(5):\n",
    "                    count += 1\n",
    "                    q.put('product-' + str(count))\n",
    "                print('produced 5 products')\n",
    "            time.sleep(2)\n",
    "\n",
    "# 定义消费者线程\n",
    "class ConsumerThread(threading.Thread):\n",
    "    def __init__(self, exit_event):\n",
    "        super().__init__()\n",
    "        self.exit_event = exit_event\n",
    "    def run(self):\n",
    "        global q\n",
    "        while not self.exit_event.is_set():\n",
    "            if q.qsize() > 0:\n",
    "                product = q.get()\n",
    "                print('consumed product:', product)\n",
    "            time.sleep(1)\n",
    "stop_event = threading.Event()\n",
    "# 创建生产者线程和消费者线程，并启动它们\n",
    "producer_thread = ProducerThread(stop_event)\n",
    "consumer_thread = ConsumerThread(stop_event)\n",
    "producer_thread.start()\n",
    "consumer_thread.start()\n",
    "time.sleep(3)\n",
    "stop_event.set()\n",
    "producer_thread.join()\n",
    "consumer_thread.join()"
   ]
  },
  {
   "attachments": {},
   "cell_type": "markdown",
   "metadata": {},
   "source": [
    "### threading.Timer(interval, function) 多少秒后执行function"
   ]
  },
  {
   "cell_type": "code",
   "execution_count": 9,
   "metadata": {},
   "outputs": [
    {
     "name": "stdout",
     "output_type": "stream",
     "text": [
      "定时器已取消！\n"
     ]
    }
   ],
   "source": [
    "import threading\n",
    "\n",
    "def my_timer():\n",
    "    print(\"定时器执行了！\")\n",
    "\n",
    "timer = threading.Timer(10.0, my_timer)\n",
    "timer.start()\n",
    "\n",
    "# 等待3秒后取消定时器的执行\n",
    "event = threading.Event()\n",
    "event.wait(3.0)\n",
    "if not event.is_set():\n",
    "    timer.cancel()\n",
    "    print(\"定时器已取消！\")"
   ]
  },
  {
   "attachments": {},
   "cell_type": "markdown",
   "metadata": {},
   "source": [
    "### logging：输出日志"
   ]
  },
  {
   "cell_type": "code",
   "execution_count": 10,
   "metadata": {},
   "outputs": [
    {
     "name": "stderr",
     "output_type": "stream",
     "text": [
      "DEBUG:root:Debug information\n"
     ]
    }
   ],
   "source": [
    "import logging\n",
    "\n",
    "logging.basicConfig(level=logging.DEBUG)\n",
    "\n",
    "def foo():\n",
    "    logging.debug(\"Debug information\")\n",
    "foo()"
   ]
  },
  {
   "attachments": {},
   "cell_type": "markdown",
   "metadata": {},
   "source": [
    "### threading.Thread(daemon=True)"
   ]
  },
  {
   "cell_type": "code",
   "execution_count": 11,
   "metadata": {},
   "outputs": [
    {
     "name": "stdout",
     "output_type": "stream",
     "text": [
      "Current time is 1678277473.6407301\n",
      "Current time is 1678277474.6513364\n",
      "Current time is 1678277475.6639278\n",
      "Main thread ends\n"
     ]
    }
   ],
   "source": [
    "import threading\n",
    "import time\n",
    "\n",
    "def print_time():\n",
    "    i = 0   # something wrong with vscode's ipynb,\n",
    "            # this won't stop when main thread ends,\n",
    "            # so I have to add this.\n",
    "    while True and i < 5:\n",
    "        print(\"Current time is {}\".format(time.time()))\n",
    "        time.sleep(1)\n",
    "        i += 1\n",
    "\n",
    "if __name__ == '__main__':\n",
    "    t = threading.Thread(target=print_time, daemon=True)\n",
    "    t.start()\n",
    "\n",
    "    time.sleep(3)\n",
    "    print(\"Main thread ends\")"
   ]
  },
  {
   "attachments": {},
   "cell_type": "markdown",
   "metadata": {},
   "source": [
    "### threading.Event()"
   ]
  },
  {
   "cell_type": "code",
   "execution_count": 12,
   "metadata": {},
   "outputs": [
    {
     "name": "stdout",
     "output_type": "stream",
     "text": [
      "Current time is 1678277476.677808\n",
      "Thread Thread-27 is waiting for event...\n",
      "Thread Thread-28 is sleeping for 3 seconds...\n",
      "Current time is 1678277477.690457\n",
      "Thread Thread-28 set the event!Thread Thread-27 received the event!\n",
      "\n"
     ]
    }
   ],
   "source": [
    "import threading\n",
    "import time\n",
    "\n",
    "# 创建 Event 对象\n",
    "event = threading.Event()\n",
    "\n",
    "def wait_for_event():\n",
    "    print(\"Thread {} is waiting for event...\".format(threading.current_thread().name))\n",
    "    event.wait()\n",
    "    print(\"Thread {} received the event!\".format(threading.current_thread().name))\n",
    "\n",
    "def set_event():\n",
    "    print(\"Thread {} is sleeping for 3 seconds...\".format(threading.current_thread().name))\n",
    "    time.sleep(2)\n",
    "    event.set()\n",
    "    print(\"Thread {} set the event!\".format(threading.current_thread().name))\n",
    "\n",
    "# 创建两个线程\n",
    "t1 = threading.Thread(target=wait_for_event)\n",
    "t2 = threading.Thread(target=set_event)\n",
    "\n",
    "# 启动两个线程\n",
    "t1.start()\n",
    "t2.start()\n",
    "\n",
    "# 等待两个线程结束\n",
    "t1.join()\n",
    "t2.join()"
   ]
  },
  {
   "cell_type": "code",
   "execution_count": 13,
   "metadata": {},
   "outputs": [
    {
     "name": "stdout",
     "output_type": "stream",
     "text": [
      "Produced 47Consumed 47\n",
      "\n",
      "Produced 82Consumed 82\n",
      "\n",
      "Produced 36Consumed 36\n",
      "\n",
      "Event is set\n"
     ]
    }
   ],
   "source": [
    "import queue\n",
    "import threading\n",
    "import time\n",
    "import random\n",
    "\n",
    "class Producer(threading.Thread):\n",
    "    def __init__(self, queue, event):\n",
    "        super().__init__()\n",
    "        self.queue = queue\n",
    "        self.event = event\n",
    "\n",
    "    def run(self):\n",
    "        while not self.event.is_set():\n",
    "            data = random.randint(0, 100)\n",
    "            self.queue.put(data)\n",
    "            print(f\"Produced {data}\")\n",
    "            time.sleep(1)\n",
    "\n",
    "class Consumer(threading.Thread):\n",
    "    def __init__(self, queue, event):\n",
    "        super().__init__()\n",
    "        self.queue = queue\n",
    "        self.event = event\n",
    "\n",
    "    def run(self):\n",
    "        while not self.event.is_set() or not self.queue.empty():\n",
    "            try:\n",
    "                data = self.queue.get(timeout=5)\n",
    "                print(f\"Consumed {data}\")\n",
    "            except queue.Empty:\n",
    "                # something wrong with 'queue.Empty' \n",
    "                print(\"Queue is empty\")\n",
    "\n",
    "if __name__ == \"__main__\":\n",
    "    queue = queue.Queue()\n",
    "    event = threading.Event()\n",
    "\n",
    "    producer = Producer(queue, event)\n",
    "    consumer = Consumer(queue, event)\n",
    "\n",
    "    producer.start()\n",
    "    consumer.start()\n",
    "\n",
    "    time.sleep(3)\n",
    "    event.set()\n",
    "    print(\"Event is set\")"
   ]
  },
  {
   "attachments": {},
   "cell_type": "markdown",
   "metadata": {},
   "source": [
    "### threading.Condition()"
   ]
  },
  {
   "cell_type": "code",
   "execution_count": 14,
   "metadata": {},
   "outputs": [
    {
     "name": "stdout",
     "output_type": "stream",
     "text": [
      "0\n",
      "1\n",
      "2\n",
      "3\n",
      "4\n",
      "5\n",
      "6\n",
      "7\n",
      "8\n",
      "9\n"
     ]
    }
   ],
   "source": [
    "import threading\n",
    "\n",
    "class Printer:\n",
    "    def __init__(self):\n",
    "        self.lock = threading.Lock()\n",
    "        self.cond = threading.Condition(self.lock)\n",
    "        self.num = 0\n",
    "\n",
    "    def odd(self):\n",
    "        with self.cond:\n",
    "            while self.num < 10:\n",
    "                if self.num % 2 == 0:\n",
    "                    self.cond.wait()\n",
    "                else:\n",
    "                    print(self.num)\n",
    "                    self.num += 1\n",
    "                    self.cond.notify()\n",
    "\n",
    "    def even(self):\n",
    "        with self.cond:\n",
    "            while self.num < 10:\n",
    "                if self.num % 2 != 0:\n",
    "                    self.cond.wait()\n",
    "                else:\n",
    "                    print(self.num)\n",
    "                    self.num += 1\n",
    "                    self.cond.notify()\n",
    "\n",
    "p = Printer()\n",
    "t1 = threading.Thread(target=p.odd)\n",
    "t2 = threading.Thread(target=p.even)\n",
    "t1.start()\n",
    "t2.start()\n",
    "t1.join()\n",
    "t2.join()"
   ]
  },
  {
   "attachments": {},
   "cell_type": "markdown",
   "metadata": {},
   "source": [
    "### threading.Barrier(parties, action, timeout)"
   ]
  },
  {
   "cell_type": "code",
   "execution_count": 15,
   "metadata": {},
   "outputs": [
    {
     "name": "stdout",
     "output_type": "stream",
     "text": [
      "Worker thread Thread-0 is waiting at the barrier...\n",
      "Worker thread Thread-1 is waiting at the barrier...\n",
      "Worker thread Thread-2 is waiting at the barrier...\n",
      "Worker thread Thread-3 is waiting at the barrier...\n",
      "Worker thread Thread-4 is waiting at the barrier...\n",
      "All threads have arrived at the barrier!\n",
      "Worker thread Thread-3 passed the barrier!\n",
      "Worker thread Thread-0 passed the barrier!Worker thread Thread-1 passed the barrier!Worker thread Thread-4 passed the barrier!\n",
      "\n",
      "Worker thread Thread-2 passed the barrier!\n",
      "\n"
     ]
    }
   ],
   "source": [
    "import threading\n",
    "\n",
    "def worker(barrier):\n",
    "    print(f\"Worker thread {threading.current_thread().name} is waiting at the barrier...\")\n",
    "    barrier.wait()\n",
    "    print(f\"Worker thread {threading.current_thread().name} passed the barrier!\")\n",
    "\n",
    "def my_action():\n",
    "    print(\"All threads have arrived at the barrier!\")\n",
    "\n",
    "if __name__ == \"__main__\":\n",
    "    num_threads = 5\n",
    "    \n",
    "    barrier = threading.Barrier(num_threads, action=my_action)\n",
    "\n",
    "    for i in range(num_threads):\n",
    "        t = threading.Thread(target=worker, args=(barrier,), name=f\"Thread-{i}\")\n",
    "        t.start()"
   ]
  },
  {
   "attachments": {},
   "cell_type": "markdown",
   "metadata": {},
   "source": [
    "### threading.Event.is_set()"
   ]
  },
  {
   "cell_type": "code",
   "execution_count": 16,
   "metadata": {},
   "outputs": [
    {
     "name": "stdout",
     "output_type": "stream",
     "text": [
      "Count: 1Count: 1\n",
      "\n",
      "Count: 2Count: 2\n",
      "\n",
      "Count: 3Count: 3\n",
      "\n",
      "Count: 4\n",
      "Count: 4\n",
      "Count: 5Count: 5\n",
      "\n",
      "Count: 6\n",
      "Count: 6\n",
      "stop_event has been set.\n"
     ]
    },
    {
     "name": "stderr",
     "output_type": "stream",
     "text": [
      "Exception in thread Thread-30:\n",
      "Traceback (most recent call last):\n",
      "  File \"C:\\Users\\Matrix\\AppData\\Local\\Temp\\ipykernel_24100\\2297608760.py\", line 28, in run\n",
      "  File \"d:\\Python\\anaconda3\\lib\\queue.py\", line 179, in get\n",
      "    raise Empty\n",
      "_queue.Empty\n",
      "\n",
      "During handling of the above exception, another exception occurred:\n",
      "\n",
      "Traceback (most recent call last):\n",
      "  File \"d:\\Python\\anaconda3\\lib\\threading.py\", line 973, in _bootstrap_inner\n",
      "    self.run()\n",
      "  File \"C:\\Users\\Matrix\\AppData\\Local\\Temp\\ipykernel_24100\\2297608760.py\", line 30, in run\n",
      "AttributeError: 'Queue' object has no attribute 'Empty'\n"
     ]
    }
   ],
   "source": [
    "import threading\n",
    "import time\n",
    "\n",
    "def counter(stop_event):\n",
    "    count = 0\n",
    "    while not stop_event.is_set():\n",
    "        # print(\"stop_event hasn't been set.\")\n",
    "        count += 1\n",
    "        print(f\"Count: {count}\")\n",
    "        time.sleep(0.5)\n",
    "\n",
    "def main():\n",
    "    stop_event = threading.Event()\n",
    "    threads = []\n",
    "    for i in range(2):\n",
    "        t = threading.Thread(target=counter, args=(stop_event,))\n",
    "        t.start()\n",
    "        threads.append(t)\n",
    "    \n",
    "    time.sleep(3)\n",
    "    print(\"stop_event has been set.\")\n",
    "    stop_event.set()\n",
    "\n",
    "    for t in threads:\n",
    "        t.join()\n",
    "\n",
    "if __name__ == '__main__':\n",
    "    main()"
   ]
  }
 ],
 "metadata": {
  "kernelspec": {
   "display_name": "Python 3",
   "language": "python",
   "name": "python3"
  },
  "language_info": {
   "codemirror_mode": {
    "name": "ipython",
    "version": 3
   },
   "file_extension": ".py",
   "mimetype": "text/x-python",
   "name": "python",
   "nbconvert_exporter": "python",
   "pygments_lexer": "ipython3",
   "version": "3.9.12"
  },
  "orig_nbformat": 4
 },
 "nbformat": 4,
 "nbformat_minor": 2
}
